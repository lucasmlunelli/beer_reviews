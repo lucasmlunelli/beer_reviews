{
 "cells": [
  {
   "cell_type": "markdown",
   "metadata": {},
   "source": [
    "# Beer Ratings"
   ]
  },
  {
   "cell_type": "code",
   "execution_count": 1,
   "metadata": {},
   "outputs": [],
   "source": [
    "# import packages\n",
    "import pandas as pd\n",
    "import numpy as np\n",
    "import sqlite3\n",
    "\n",
    "# ignore warnings\n",
    "import warnings\n",
    "warnings.filterwarnings('ignore') \n",
    "\n",
    "# pandas defaults\n",
    "pd.set_option('display.max_rows', 10)\n",
    "pd.set_option('display.max_columns', 500)"
   ]
  },
  {
   "cell_type": "code",
   "execution_count": 2,
   "metadata": {},
   "outputs": [],
   "source": [
    "# create connection\n",
    "PATH = 'C:\\\\data\\\\'\n",
    "conn = sqlite3.connect(PATH + 'beer.sqlite')"
   ]
  },
  {
   "cell_type": "code",
   "execution_count": 3,
   "metadata": {
    "scrolled": true
   },
   "outputs": [],
   "source": [
    "# load data\n",
    "style = pd.read_sql_query('select * from styles', conn)\n",
    "brewery = pd.read_sql_query('select * from brewery', conn)\n",
    "df = pd.read_sql_query('select * from df', conn)\n",
    "\n",
    "# close connection\n",
    "conn.close()"
   ]
  },
  {
   "cell_type": "code",
   "execution_count": 4,
   "metadata": {},
   "outputs": [],
   "source": [
    "# clean data\n",
    "df['rating'] = pd.to_numeric(df['rating'], downcast='float')\n",
    "df['brewery_id'] = pd.to_numeric(df['brewery_id'])\n",
    "df['style'] = df['style'].str.strip()\n",
    "df.reset_index(inplace = True)"
   ]
  },
  {
   "cell_type": "code",
   "execution_count": 5,
   "metadata": {},
   "outputs": [],
   "source": [
    "# get valid users\n",
    "users = df['user_id'].value_counts().rename_axis('user_id').to_frame('counts').reset_index()\n",
    "# keep only users with 10 ratings or more\n",
    "users_valid = users[users['counts']>=10]\n",
    "# keep only top 1000 users based on number of votes\n",
    "users_top1000 = users.iloc[:1000]"
   ]
  },
  {
   "cell_type": "code",
   "execution_count": 6,
   "metadata": {},
   "outputs": [],
   "source": [
    "# remove unwanted styles (cider, sake,...)\n",
    "df_clean = pd.merge(style, df, on='style')\n",
    "\n",
    "# include brewery location\n",
    "df_clean = pd.merge(df_clean, brewery, left_on='brewery_id', right_on='id')"
   ]
  },
  {
   "cell_type": "code",
   "execution_count": 7,
   "metadata": {},
   "outputs": [],
   "source": [
    "# create dataframe with beer info only (without user's review)\n",
    "beer = df_clean[['division','alias','type','beer_name','beer_id','brewery_name','brewery_id','abv','location']]\\\n",
    "            .drop_duplicates('beer_id')\n",
    "\n",
    "# create dataframe with ratings aggregated by beer\n",
    "categories = df_clean.groupby(['beer_id']).agg(appearance = ('appearance', 'mean'), aroma = ('aroma', 'mean'), \n",
    "                                                     palate = ('palate', 'mean'), taste = ('taste', 'mean'), \n",
    "                                                     overall = ('overall', 'mean')).reset_index()"
   ]
  },
  {
   "cell_type": "code",
   "execution_count": 8,
   "metadata": {},
   "outputs": [],
   "source": [
    "# remove users with less than 10 votes\n",
    "rat_valid = pd.merge(users_valid, df_clean, on='user_id')"
   ]
  },
  {
   "cell_type": "code",
   "execution_count": 9,
   "metadata": {},
   "outputs": [],
   "source": [
    "# standardization of ratings by user\n",
    "standard = rat_valid.groupby('user_id').transform(lambda x: ((x - x.mean())/x.std())) # time consuming step\n",
    "standard.reset_index(inplace = True)\n",
    "standard.rename(columns={'rating':'rating_standard'}, inplace = True)\n",
    "rat_valid.reset_index(inplace = True)\n",
    "standard_rat = pd.merge(standard[['level_0', 'rating_standard']], rat_valid[['level_0','rating', 'beer_id']], on='level_0')"
   ]
  },
  {
   "cell_type": "code",
   "execution_count": 10,
   "metadata": {},
   "outputs": [],
   "source": [
    "# aggregate ratings by beer\n",
    "standard_rat_agg = standard_rat.groupby(['beer_id']).agg(count = ('rating_standard', 'count'),\n",
    "                                                        avg_norm = ('rating_standard', 'mean'), \n",
    "                                                        std = ('rating', 'std'), avg = ('rating', 'mean')).reset_index()\n",
    "# remove beers with less than 50 reviews\n",
    "standard_rat_agg = standard_rat_agg[standard_rat_agg['count']>50]"
   ]
  },
  {
   "cell_type": "code",
   "execution_count": 11,
   "metadata": {},
   "outputs": [],
   "source": [
    "# create weighted rating\n",
    "C = 0 # the mean is close to zero due to the standardization\n",
    "m = 500\n",
    "\n",
    "standard_rat_agg['wr'] = (standard_rat_agg['count']/(standard_rat_agg['count'] + m))*\\\n",
    "                            standard_rat_agg['avg_norm'] + (m / (standard_rat_agg['count'] + m))*C"
   ]
  },
  {
   "cell_type": "code",
   "execution_count": 12,
   "metadata": {
    "scrolled": true
   },
   "outputs": [],
   "source": [
    "# normalize results\n",
    "standard_rat_agg['score']  = 100*(standard_rat_agg['wr']-standard_rat_agg['wr'].min())/\\\n",
    "                                    (standard_rat_agg['wr'].max()-standard_rat_agg['wr'].min())\n",
    "\n",
    "standard_rat_agg['popularity']  = 100*(standard_rat_agg['count']-standard_rat_agg['count'].min())/\\\n",
    "                                    (standard_rat_agg['count'].max()-standard_rat_agg['count'].min())\n",
    "\n",
    "standard_rat_agg['p_dev'] = standard_rat_agg['std']/standard_rat_agg['avg']"
   ]
  },
  {
   "cell_type": "code",
   "execution_count": 13,
   "metadata": {},
   "outputs": [],
   "source": [
    "# join data\n",
    "valid_final = pd.merge(standard_rat_agg[['beer_id','count','avg','score','p_dev', 'popularity']], beer, on='beer_id')\n",
    "valid_final = pd.merge(valid_final, categories, on='beer_id')\n",
    "\n",
    "\n",
    "# percentile relative to each style (for final score)\n",
    "type_count = valid_final.groupby(['type']).agg(type_count = ('type', 'count')).reset_index()\n",
    "type_positions = valid_final.groupby(['type'])[[\"score\"]].rank(method='max').reset_index()\n",
    "type_positions.rename(columns={\"score\": \"type_rank\"}, inplace=True)\n",
    "valid_final.reset_index(inplace=True)\n",
    "valid_final = pd.merge(valid_final, type_count, on='type')\n",
    "valid_final = pd.merge(valid_final, type_positions, on='index')\n",
    "valid_final['type_score'] = valid_final['type_rank'] / valid_final['type_count'] *100\n",
    "\n",
    "# overall percentile for score and popularity (for final score)\n",
    "sz = valid_final['score'].size-1\n",
    "valid_final['perc'] = valid_final['score'].rank(method='max').apply(lambda x: 100.0*(x-1)/sz)\n",
    "valid_final['pop_perc'] = valid_final['popularity'].rank(method='max').apply(lambda x: 100.0*(x-1)/sz)\n",
    "\n",
    "# calculate final scores based on normalized score and percentiles \n",
    "valid_final['final_score'] = (valid_final['perc'] + valid_final['score'] + valid_final['type_score'])/3\n",
    "valid_final['final_popularity'] = (valid_final['popularity'] + valid_final['pop_perc']*2)/3\n",
    "\n",
    "# create categories\n",
    "conditions = [valid_final['final_score'] > 90, valid_final['final_score'] > 70,\n",
    "             valid_final['final_score'] > 50, valid_final['final_score'] > 30]\n",
    "choices = ['Outstanding', 'Very Good', 'Good', 'Okay']\n",
    "valid_final['score_category'] = np.select(conditions, choices, default='Poor')\n",
    "\n",
    "conditions = [valid_final['final_popularity'] > 65, valid_final['final_score'] > 35]\n",
    "choices = ['Famous', 'Well Known']\n",
    "valid_final['popularity_category'] = np.select(conditions, choices, default='Niche')"
   ]
  },
  {
   "cell_type": "code",
   "execution_count": 14,
   "metadata": {},
   "outputs": [],
   "source": [
    "# remove unwanted columns\n",
    "valid_final.drop(columns=['index', 'popularity', 'score', 'division', \n",
    "                            'type_count', 'type_rank', 'perc', 'pop_perc'], inplace=True)\n",
    "\n",
    "# save data\n",
    "valid_final.to_csv('beer rating.csv', index=False, encoding='utf-8', decimal=',', sep='\\t')"
   ]
  },
  {
   "cell_type": "markdown",
   "metadata": {},
   "source": [
    "FUTURE IDEAS: \n",
    "- correlation between categories (palate, aroma,...) ratings\n",
    "- reviews by date\n",
    "- style and abv effect on ratings\n",
    "- most rated beer by users with few votes"
   ]
  }
 ],
 "metadata": {
  "kernelspec": {
   "display_name": "Python 3",
   "language": "python",
   "name": "python3"
  },
  "language_info": {
   "codemirror_mode": {
    "name": "ipython",
    "version": 3
   },
   "file_extension": ".py",
   "mimetype": "text/x-python",
   "name": "python",
   "nbconvert_exporter": "python",
   "pygments_lexer": "ipython3",
   "version": "3.7.6"
  }
 },
 "nbformat": 4,
 "nbformat_minor": 4
}
